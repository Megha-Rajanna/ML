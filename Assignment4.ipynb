{
 "cells": [
  {
   "cell_type": "markdown",
   "metadata": {},
   "source": [
    "1.1 Write a Python Program(with class concepts) to find the area of the triangle using the below\n",
    "formula.\n",
    "area = (s*(s-a)*(s-b)*(s-c)) ** 0.5\n",
    "Function to take the length of the sides of triangle from user should be defined in the parent\n",
    "class and function to calculate the area should be defined in subclass."
   ]
  },
  {
   "cell_type": "code",
   "execution_count": 9,
   "metadata": {},
   "outputs": [
    {
     "name": "stdout",
     "output_type": "stream",
     "text": [
      "Area of triangle is : 17.32 \n"
     ]
    }
   ],
   "source": [
    "class Area:\n",
    "\n",
    "    def __init__(self,a,b,c):\n",
    "        self.a = a\n",
    "        self.b = b\n",
    "        self.c = c\n",
    "\n",
    "\n",
    "class Triangle(Area):\n",
    "\n",
    "    def get_area(p):\n",
    "        p.s= (p.a+p.b+p.c)/2\n",
    "        return \"Area of triangle is : %.2f \" %((p.s*(p.s-p.a)*(p.s-p.b)*(p.s-p.c)) ** 0.5)\n",
    "\n",
    "   \n",
    "x= Triangle(5,7,8)\n",
    "print(x.get_area())"
   ]
  },
  {
   "cell_type": "markdown",
   "metadata": {},
   "source": [
    "1.2 Write a function filter_long_words() that takes a list of words and an integer n and returns\n",
    "the list of words that are longer than n."
   ]
  },
  {
   "cell_type": "code",
   "execution_count": 67,
   "metadata": {},
   "outputs": [
    {
     "name": "stdout",
     "output_type": "stream",
     "text": [
      "please enter the word:sctscst,sahasfs,sisvas,asosvs,sosvs\n",
      "please enter the number:6\n",
      "The list of word greater than 6 is:  ['sctscst', 'sahasfs']\n"
     ]
    }
   ],
   "source": [
    "def filter_long_words(word,n):\n",
    "        list_of_words = []\n",
    "        txt = word.split(\",\")  \n",
    "        for i in txt:\n",
    "            if len(i) > n:\n",
    "                list_of_words.append(i)\n",
    "                continue\n",
    "        return list_of_words\n",
    "     \n",
    "        \n",
    "def take_input():\n",
    "    words= input(\"please enter the word:\" )\n",
    "    num= int(input(\"please enter the number:\" ))\n",
    "    \n",
    "    word1= filter_long_words(words,num)\n",
    "    \n",
    "    print(\"The list of word greater than %d is: \" %num , word1)\n",
    "    \n",
    "take_input()"
   ]
  },
  {
   "cell_type": "markdown",
   "metadata": {},
   "source": [
    "2.1 Write a Python program using function concept that maps list of words into a list of integers\n",
    "representing the lengths of the corresponding words.\n",
    "\n",
    "Hint: If a list [ ab,cde,erty] is passed on to the python function output should come as [2,3,4]\n",
    "Here 2,3 and 4 are the lengths of the words in the list."
   ]
  },
  {
   "cell_type": "code",
   "execution_count": 88,
   "metadata": {},
   "outputs": [
    {
     "name": "stdout",
     "output_type": "stream",
     "text": [
      "please enter the word:megha,rajanna,python,machine,learning\n",
      "The list corresponding to length of words corresponing to input:  [5, 7, 6, 7, 8]\n"
     ]
    }
   ],
   "source": [
    "def filter_long_words(word):\n",
    "        list_of_words = []\n",
    "        txt = word.split(\",\")  \n",
    "        for i in txt:\n",
    "            list_of_words.append(len(i))\n",
    "            continue\n",
    "        return list_of_words\n",
    "     \n",
    "        \n",
    "def take_input():\n",
    "    words= input(\"please enter the word:\" )\n",
    "    \n",
    "    word1= filter_long_words(words)\n",
    "    \n",
    "    print(\"The list corresponding to length of words corresponing to input: \", word1)\n",
    "    \n",
    "take_input()"
   ]
  },
  {
   "cell_type": "markdown",
   "metadata": {},
   "source": [
    "2.2 Write a Python function which takes a character (i.e. a string of length 1) and returns True if\n",
    "it is a vowel, False otherwise."
   ]
  },
  {
   "cell_type": "code",
   "execution_count": 66,
   "metadata": {},
   "outputs": [
    {
     "name": "stdout",
     "output_type": "stream",
     "text": [
      "Enter the charatcter:w\n"
     ]
    },
    {
     "data": {
      "text/plain": [
       "False"
      ]
     },
     "execution_count": 66,
     "metadata": {},
     "output_type": "execute_result"
    }
   ],
   "source": [
    "def find_vowels(char= input(\"Enter the charatcter:\")):\n",
    "    if (char =='a' or char == 'e'or char =='i'\n",
    "    or char =='o' or char =='u' or char =='A' or char == 'E' or char =='I' or char == 'O' or char == 'U'):\n",
    "        return True\n",
    "    else:\n",
    "        return False\n",
    "    \n",
    "\n",
    "find_vowels()"
   ]
  }
 ],
 "metadata": {
  "kernelspec": {
   "display_name": "Python 3",
   "language": "python",
   "name": "python3"
  },
  "language_info": {
   "codemirror_mode": {
    "name": "ipython",
    "version": 3
   },
   "file_extension": ".py",
   "mimetype": "text/x-python",
   "name": "python",
   "nbconvert_exporter": "python",
   "pygments_lexer": "ipython3",
   "version": "3.7.4"
  }
 },
 "nbformat": 4,
 "nbformat_minor": 2
}
